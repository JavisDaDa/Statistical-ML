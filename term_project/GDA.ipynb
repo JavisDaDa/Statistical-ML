{
 "cells": [
  {
   "cell_type": "code",
   "execution_count": 1,
   "metadata": {},
   "outputs": [
    {
     "name": "stderr",
     "output_type": "stream",
     "text": [
      "Using TensorFlow backend.\n"
     ]
    }
   ],
   "source": [
    "import random\n",
    "import numpy as np\n",
    "import matplotlib.pyplot as plt\n",
    "import seaborn as sns\n",
    "from sklearn.metrics import confusion_matrix\n",
    "from sklearn.discriminant_analysis import LinearDiscriminantAnalysis\n",
    "from sklearn.discriminant_analysis import QuadraticDiscriminantAnalysis\n",
    "import numpy as np\n",
    "import pandas as pd\n",
    "import matplotlib.pyplot as plt\n",
    "import shutil\n",
    "import traceback\n",
    "import os\n",
    "import pathlib\n",
    "from keras_preprocessing.image import ImageDataGenerator\n",
    "import datautils\n",
    "%load_ext autoreload\n",
    "%autoreload 2"
   ]
  },
  {
   "cell_type": "code",
   "execution_count": 2,
   "metadata": {},
   "outputs": [],
   "source": [
    "train_df = pd.read_csv('./data/train_merge.csv')\n",
    "val_df = pd.read_csv('./data/val_merge.csv')\n",
    "train_dir = './data/train_set'\n",
    "val_dir = './data/val_set'"
   ]
  },
  {
   "cell_type": "code",
   "execution_count": 9,
   "metadata": {},
   "outputs": [
    {
     "name": "stdout",
     "output_type": "stream",
     "text": [
      "Found 50000 validated image filenames belonging to 251 classes.\n"
     ]
    }
   ],
   "source": [
    "sample = 50000\n",
    "X_train, y_train = datautils.gettrain(train_df, train_dir, sample=sample, image_size=128, batch_size=1)"
   ]
  },
  {
   "cell_type": "code",
   "execution_count": 10,
   "metadata": {},
   "outputs": [],
   "source": [
    "np.save(f'X_train{sample}.npy', X_train)\n",
    "np.save(f'y_train{sample}.npy', y_train)"
   ]
  },
  {
   "cell_type": "code",
   "execution_count": null,
   "metadata": {},
   "outputs": [],
   "source": [
    "X_train, y_train = np.load('X_train6000.npy'), np.load('y_train6000.npy')"
   ]
  },
  {
   "cell_type": "code",
   "execution_count": 11,
   "metadata": {},
   "outputs": [
    {
     "data": {
      "text/plain": [
       "(50000, 49152)"
      ]
     },
     "execution_count": 11,
     "metadata": {},
     "output_type": "execute_result"
    }
   ],
   "source": [
    "X_train.shape"
   ]
  },
  {
   "cell_type": "code",
   "execution_count": 13,
   "metadata": {},
   "outputs": [
    {
     "data": {
      "text/plain": [
       "(50000,)"
      ]
     },
     "execution_count": 13,
     "metadata": {},
     "output_type": "execute_result"
    }
   ],
   "source": [
    "y_train.shape"
   ]
  },
  {
   "cell_type": "code",
   "execution_count": 15,
   "metadata": {},
   "outputs": [],
   "source": [
    "X_train, y_train = np.load('X_train6000.npy'), np.load('y_train6000.npy')"
   ]
  },
  {
   "cell_type": "code",
   "execution_count": 16,
   "metadata": {},
   "outputs": [
    {
     "data": {
      "text/plain": [
       "LinearDiscriminantAnalysis(n_components=None, priors=None, shrinkage=None,\n",
       "                           solver='svd', store_covariance=True, tol=0.0001)"
      ]
     },
     "execution_count": 16,
     "metadata": {},
     "output_type": "execute_result"
    }
   ],
   "source": [
    "lda = LinearDiscriminantAnalysis(store_covariance=True)\n",
    "lda.fit(X_train, y_train)"
   ]
  },
  {
   "cell_type": "markdown",
   "metadata": {},
   "source": [
    "## Evaluate"
   ]
  },
  {
   "cell_type": "markdown",
   "metadata": {},
   "source": [
    "### Train accuracy"
   ]
  },
  {
   "cell_type": "code",
   "execution_count": 17,
   "metadata": {},
   "outputs": [
    {
     "name": "stdout",
     "output_type": "stream",
     "text": [
      "Train accuracy is 0.74598\n"
     ]
    }
   ],
   "source": [
    "pred_train = lda.predict(X_train)\n",
    "pred_train_acc = np.mean(pred_train == y_train)\n",
    "print(f'Train accuracy is {pred_train_acc}')"
   ]
  },
  {
   "cell_type": "markdown",
   "metadata": {},
   "source": [
    "### Validation accuracy"
   ]
  },
  {
   "cell_type": "code",
   "execution_count": 19,
   "metadata": {},
   "outputs": [
    {
     "name": "stdout",
     "output_type": "stream",
     "text": [
      "Found 11994 validated image filenames belonging to 251 classes.\n"
     ]
    }
   ],
   "source": [
    "X_val, y_val, label = datautils.gettestdata(val_df, val_dir, sample=len(val_df), class_mode='class')"
   ]
  },
  {
   "cell_type": "code",
   "execution_count": 20,
   "metadata": {},
   "outputs": [
    {
     "data": {
      "text/plain": [
       "(11994, 3072)"
      ]
     },
     "execution_count": 20,
     "metadata": {},
     "output_type": "execute_result"
    }
   ],
   "source": [
    "X_val.shape"
   ]
  },
  {
   "cell_type": "code",
   "execution_count": 21,
   "metadata": {},
   "outputs": [
    {
     "name": "stdout",
     "output_type": "stream",
     "text": [
      "Validation accuracy is 0.009254627313656828\n"
     ]
    }
   ],
   "source": [
    "pred_val = lda.predict(X_val)\n",
    "pred_val_acc = np.mean(pred_val == y_val)\n",
    "print(f'Validation accuracy is {pred_val_acc}')"
   ]
  },
  {
   "cell_type": "markdown",
   "metadata": {},
   "source": [
    "## Test"
   ]
  },
  {
   "cell_type": "code",
   "execution_count": 22,
   "metadata": {},
   "outputs": [],
   "source": [
    "test_df = pd.read_csv('./data/sample_submission.csv')\n",
    "test_df['label'] = test_df['label'].astype(str)\n",
    "test_dir = './data/test_set'"
   ]
  },
  {
   "cell_type": "code",
   "execution_count": 23,
   "metadata": {},
   "outputs": [
    {
     "name": "stdout",
     "output_type": "stream",
     "text": [
      "Found 28377 validated image filenames belonging to 1 classes.\n"
     ]
    }
   ],
   "source": [
    "X_test, _, _ = datautils.gettestdata(test_df, test_dir, sample=len(test_df), class_mode='label')"
   ]
  },
  {
   "cell_type": "code",
   "execution_count": 24,
   "metadata": {},
   "outputs": [
    {
     "data": {
      "text/plain": [
       "(28377, 3072)"
      ]
     },
     "execution_count": 24,
     "metadata": {},
     "output_type": "execute_result"
    }
   ],
   "source": [
    "X_test.shape"
   ]
  },
  {
   "cell_type": "code",
   "execution_count": 25,
   "metadata": {},
   "outputs": [],
   "source": [
    "pred_test = lda.predict(X_test)"
   ]
  },
  {
   "cell_type": "code",
   "execution_count": 26,
   "metadata": {},
   "outputs": [
    {
     "data": {
      "text/plain": [
       "array([135, 131,  44, ..., 190,  33, 237])"
      ]
     },
     "execution_count": 26,
     "metadata": {},
     "output_type": "execute_result"
    }
   ],
   "source": [
    "pred_test"
   ]
  },
  {
   "cell_type": "code",
   "execution_count": 27,
   "metadata": {},
   "outputs": [],
   "source": [
    "n = len(pred_test)\n",
    "pred_class = []\n",
    "for i in range(n):\n",
    "    pred_class.append(label[pred_test[i]])"
   ]
  },
  {
   "cell_type": "code",
   "execution_count": 28,
   "metadata": {},
   "outputs": [],
   "source": [
    "test_df['class'] = pred_class"
   ]
  },
  {
   "cell_type": "code",
   "execution_count": 29,
   "metadata": {},
   "outputs": [
    {
     "data": {
      "text/html": [
       "<div>\n",
       "<style scoped>\n",
       "    .dataframe tbody tr th:only-of-type {\n",
       "        vertical-align: middle;\n",
       "    }\n",
       "\n",
       "    .dataframe tbody tr th {\n",
       "        vertical-align: top;\n",
       "    }\n",
       "\n",
       "    .dataframe thead th {\n",
       "        text-align: right;\n",
       "    }\n",
       "</style>\n",
       "<table border=\"1\" class=\"dataframe\">\n",
       "  <thead>\n",
       "    <tr style=\"text-align: right;\">\n",
       "      <th></th>\n",
       "      <th>img_name</th>\n",
       "      <th>label</th>\n",
       "      <th>class</th>\n",
       "    </tr>\n",
       "  </thead>\n",
       "  <tbody>\n",
       "    <tr>\n",
       "      <th>0</th>\n",
       "      <td>test_024088.jpg</td>\n",
       "      <td>250</td>\n",
       "      <td>lobster_bisque</td>\n",
       "    </tr>\n",
       "    <tr>\n",
       "      <th>1</th>\n",
       "      <td>test_024089.jpg</td>\n",
       "      <td>250</td>\n",
       "      <td>knish</td>\n",
       "    </tr>\n",
       "    <tr>\n",
       "      <th>2</th>\n",
       "      <td>test_024090.jpg</td>\n",
       "      <td>250</td>\n",
       "      <td>chicken_provencale</td>\n",
       "    </tr>\n",
       "    <tr>\n",
       "      <th>3</th>\n",
       "      <td>test_024091.jpg</td>\n",
       "      <td>250</td>\n",
       "      <td>haggis</td>\n",
       "    </tr>\n",
       "    <tr>\n",
       "      <th>4</th>\n",
       "      <td>test_024092.jpg</td>\n",
       "      <td>250</td>\n",
       "      <td>toad_in_the_hole</td>\n",
       "    </tr>\n",
       "    <tr>\n",
       "      <th>...</th>\n",
       "      <td>...</td>\n",
       "      <td>...</td>\n",
       "      <td>...</td>\n",
       "    </tr>\n",
       "    <tr>\n",
       "      <th>28372</th>\n",
       "      <td>test_024083.jpg</td>\n",
       "      <td>250</td>\n",
       "      <td>osso_buco</td>\n",
       "    </tr>\n",
       "    <tr>\n",
       "      <th>28373</th>\n",
       "      <td>test_024084.jpg</td>\n",
       "      <td>250</td>\n",
       "      <td>vermicelli</td>\n",
       "    </tr>\n",
       "    <tr>\n",
       "      <th>28374</th>\n",
       "      <td>test_024085.jpg</td>\n",
       "      <td>250</td>\n",
       "      <td>roulade</td>\n",
       "    </tr>\n",
       "    <tr>\n",
       "      <th>28375</th>\n",
       "      <td>test_024086.jpg</td>\n",
       "      <td>250</td>\n",
       "      <td>cannoli</td>\n",
       "    </tr>\n",
       "    <tr>\n",
       "      <th>28376</th>\n",
       "      <td>test_024087.jpg</td>\n",
       "      <td>250</td>\n",
       "      <td>toad_in_the_hole</td>\n",
       "    </tr>\n",
       "  </tbody>\n",
       "</table>\n",
       "<p>28377 rows × 3 columns</p>\n",
       "</div>"
      ],
      "text/plain": [
       "              img_name label               class\n",
       "0      test_024088.jpg   250      lobster_bisque\n",
       "1      test_024089.jpg   250               knish\n",
       "2      test_024090.jpg   250  chicken_provencale\n",
       "3      test_024091.jpg   250              haggis\n",
       "4      test_024092.jpg   250    toad_in_the_hole\n",
       "...                ...   ...                 ...\n",
       "28372  test_024083.jpg   250           osso_buco\n",
       "28373  test_024084.jpg   250          vermicelli\n",
       "28374  test_024085.jpg   250             roulade\n",
       "28375  test_024086.jpg   250             cannoli\n",
       "28376  test_024087.jpg   250    toad_in_the_hole\n",
       "\n",
       "[28377 rows x 3 columns]"
      ]
     },
     "execution_count": 29,
     "metadata": {},
     "output_type": "execute_result"
    }
   ],
   "source": [
    "test_df"
   ]
  },
  {
   "cell_type": "code",
   "execution_count": 30,
   "metadata": {},
   "outputs": [],
   "source": [
    "table = pd.read_table('./data/class_list.txt', header=None, sep=' ')\n",
    "table.columns = ['label', 'class']"
   ]
  },
  {
   "cell_type": "code",
   "execution_count": 31,
   "metadata": {},
   "outputs": [],
   "source": [
    "class_dir = {}\n",
    "n = len(table)\n",
    "for i in range(n):\n",
    "    class_dir[table.iloc[i]['class']] = table.iloc[i]['label']"
   ]
  },
  {
   "cell_type": "code",
   "execution_count": 32,
   "metadata": {},
   "outputs": [],
   "source": [
    "n = len(pred_test)\n",
    "for i in range(n):\n",
    "    test_df.loc[i, 'label'] = class_dir[test_df.iloc[i]['class']]"
   ]
  },
  {
   "cell_type": "code",
   "execution_count": 33,
   "metadata": {},
   "outputs": [],
   "source": [
    "test_df.to_csv('submission.csv')"
   ]
  },
  {
   "cell_type": "markdown",
   "metadata": {},
   "source": [
    "## QDA"
   ]
  },
  {
   "cell_type": "code",
   "execution_count": 2,
   "metadata": {},
   "outputs": [],
   "source": [
    "X_train, y_train = np.load('X_train6000.npy'), np.load('y_train6000.npy')"
   ]
  },
  {
   "cell_type": "code",
   "execution_count": 3,
   "metadata": {},
   "outputs": [
    {
     "data": {
      "text/plain": [
       "(50000, 3072)"
      ]
     },
     "execution_count": 3,
     "metadata": {},
     "output_type": "execute_result"
    }
   ],
   "source": [
    "X_train.shape"
   ]
  },
  {
   "cell_type": "code",
   "execution_count": 19,
   "metadata": {},
   "outputs": [
    {
     "name": "stderr",
     "output_type": "stream",
     "text": [
      "C:\\Users\\Darren\\Anaconda3\\envs\\MacbookPro\\lib\\site-packages\\sklearn\\discriminant_analysis.py:691: UserWarning: Variables are collinear\n",
      "  warnings.warn(\"Variables are collinear\")\n"
     ]
    },
    {
     "name": "stdout",
     "output_type": "stream",
     "text": [
      "When reg is 0.001, Train accuracy is 0.0336\n",
      "When reg is 0.001, Validation accuracy is 0.00625312656328164\n"
     ]
    },
    {
     "name": "stderr",
     "output_type": "stream",
     "text": [
      "C:\\Users\\Darren\\Anaconda3\\envs\\MacbookPro\\lib\\site-packages\\sklearn\\discriminant_analysis.py:691: UserWarning: Variables are collinear\n",
      "  warnings.warn(\"Variables are collinear\")\n"
     ]
    },
    {
     "name": "stdout",
     "output_type": "stream",
     "text": [
      "When reg is 0.01, Train accuracy is 0.02292\n",
      "When reg is 0.01, Validation accuracy is 0.00591962647990662\n"
     ]
    },
    {
     "name": "stderr",
     "output_type": "stream",
     "text": [
      "C:\\Users\\Darren\\Anaconda3\\envs\\MacbookPro\\lib\\site-packages\\sklearn\\discriminant_analysis.py:691: UserWarning: Variables are collinear\n",
      "  warnings.warn(\"Variables are collinear\")\n"
     ]
    },
    {
     "name": "stdout",
     "output_type": "stream",
     "text": [
      "When reg is 0.1, Train accuracy is 0.0048\n",
      "When reg is 0.1, Validation accuracy is 0.0050025012506253125\n"
     ]
    },
    {
     "name": "stderr",
     "output_type": "stream",
     "text": [
      "C:\\Users\\Darren\\Anaconda3\\envs\\MacbookPro\\lib\\site-packages\\sklearn\\discriminant_analysis.py:691: UserWarning: Variables are collinear\n",
      "  warnings.warn(\"Variables are collinear\")\n"
     ]
    },
    {
     "name": "stdout",
     "output_type": "stream",
     "text": [
      "When reg is 1.0, Train accuracy is 0.00102\n",
      "When reg is 1.0, Validation accuracy is 0.007920626980156746\n"
     ]
    },
    {
     "name": "stderr",
     "output_type": "stream",
     "text": [
      "C:\\Users\\Darren\\Anaconda3\\envs\\MacbookPro\\lib\\site-packages\\sklearn\\discriminant_analysis.py:691: UserWarning: Variables are collinear\n",
      "  warnings.warn(\"Variables are collinear\")\n",
      "C:\\Users\\Darren\\Anaconda3\\envs\\MacbookPro\\lib\\site-packages\\sklearn\\discriminant_analysis.py:715: RuntimeWarning: invalid value encountered in power\n",
      "  X2 = np.dot(Xm, R * (S ** (-0.5)))\n",
      "C:\\Users\\Darren\\Anaconda3\\envs\\MacbookPro\\lib\\site-packages\\sklearn\\discriminant_analysis.py:718: RuntimeWarning: invalid value encountered in log\n",
      "  u = np.asarray([np.sum(np.log(s)) for s in self.scalings_])\n",
      "C:\\Users\\Darren\\Anaconda3\\envs\\MacbookPro\\lib\\site-packages\\sklearn\\discriminant_analysis.py:715: RuntimeWarning: invalid value encountered in power\n",
      "  X2 = np.dot(Xm, R * (S ** (-0.5)))\n"
     ]
    },
    {
     "name": "stdout",
     "output_type": "stream",
     "text": [
      "When reg is 10.0, Train accuracy is 0.0043\n",
      "When reg is 10.0, Validation accuracy is 0.003585125896281474\n"
     ]
    },
    {
     "name": "stderr",
     "output_type": "stream",
     "text": [
      "C:\\Users\\Darren\\Anaconda3\\envs\\MacbookPro\\lib\\site-packages\\sklearn\\discriminant_analysis.py:718: RuntimeWarning: invalid value encountered in log\n",
      "  u = np.asarray([np.sum(np.log(s)) for s in self.scalings_])\n"
     ]
    }
   ],
   "source": [
    "reg = [0.001, 0.01, 0.1, 1.0, 10.0]\n",
    "train_scores = []\n",
    "val_scores = []\n",
    "for reg in reg:\n",
    "    qda = QuadraticDiscriminantAnalysis(reg_param=reg)\n",
    "    qda.fit(X_train, y_train)\n",
    "    train_score = qda.score(X_train, y_train)\n",
    "    train_scores.append(train_score)\n",
    "    val_score = qda.score(X_val, y_val)\n",
    "    val_scores.append(val_score)\n",
    "    print(f'When reg is {reg}, Train accuracy is {train_score}')\n",
    "    print(f'When reg is {reg}, Validation accuracy is {val_score}')"
   ]
  },
  {
   "cell_type": "code",
   "execution_count": 20,
   "metadata": {},
   "outputs": [
    {
     "name": "stderr",
     "output_type": "stream",
     "text": [
      "C:\\Users\\Darren\\Anaconda3\\envs\\MacbookPro\\lib\\site-packages\\sklearn\\discriminant_analysis.py:691: UserWarning: Variables are collinear\n",
      "  warnings.warn(\"Variables are collinear\")\n"
     ]
    },
    {
     "name": "stdout",
     "output_type": "stream",
     "text": [
      "When reg is 10.0, Train accuracy is 0.94172\n",
      "When reg is 10.0, Validation accuracy is 0.0036685009171252294\n"
     ]
    }
   ],
   "source": [
    "qda = QuadraticDiscriminantAnalysis()\n",
    "qda.fit(X_train, y_train)\n",
    "train_score = qda.score(X_train, y_train)\n",
    "train_scores.append(train_score)\n",
    "val_score = qda.score(X_val, y_val)\n",
    "val_scores.append(val_score)\n",
    "print(f'When reg is {reg}, Train accuracy is {train_score}')\n",
    "print(f'When reg is {reg}, Validation accuracy is {val_score}')"
   ]
  },
  {
   "cell_type": "code",
   "execution_count": 13,
   "metadata": {},
   "outputs": [
    {
     "name": "stdout",
     "output_type": "stream",
     "text": [
      "Train accuracy is 0.00102\n"
     ]
    }
   ],
   "source": [
    "pred_train = qda.predict(X_train)\n",
    "pred_train_acc = np.mean(pred_train == y_train)\n",
    "print(f'Train accuracy is {pred_train_acc}')"
   ]
  },
  {
   "cell_type": "code",
   "execution_count": 7,
   "metadata": {},
   "outputs": [],
   "source": [
    "train_df = pd.read_csv('./data/train_merge.csv')\n",
    "val_df = pd.read_csv('./data/val_merge.csv')\n",
    "train_dir = './data/train_set'\n",
    "val_dir = './data/val_set'"
   ]
  },
  {
   "cell_type": "code",
   "execution_count": 8,
   "metadata": {},
   "outputs": [
    {
     "name": "stdout",
     "output_type": "stream",
     "text": [
      "Found 11994 validated image filenames belonging to 251 classes.\n"
     ]
    }
   ],
   "source": [
    "X_val, y_val, label = datautils.gettestdata(val_df, val_dir, sample=len(val_df), class_mode='class')"
   ]
  },
  {
   "cell_type": "code",
   "execution_count": 9,
   "metadata": {},
   "outputs": [
    {
     "data": {
      "text/plain": [
       "(11994, 3072)"
      ]
     },
     "execution_count": 9,
     "metadata": {},
     "output_type": "execute_result"
    }
   ],
   "source": [
    "X_val.shape"
   ]
  },
  {
   "cell_type": "code",
   "execution_count": 11,
   "metadata": {},
   "outputs": [
    {
     "name": "stdout",
     "output_type": "stream",
     "text": [
      "Validation accuracy is 0.0036685009171252294\n"
     ]
    }
   ],
   "source": [
    "pred_val = qda.predict(X_val)\n",
    "pred_val_acc = np.mean(pred_val == y_val)\n",
    "print(f'Validation accuracy is {pred_val_acc}')"
   ]
  },
  {
   "cell_type": "code",
   "execution_count": 16,
   "metadata": {},
   "outputs": [],
   "source": [
    "train_score = qda.score(X_train, y_train)"
   ]
  },
  {
   "cell_type": "code",
   "execution_count": 17,
   "metadata": {},
   "outputs": [
    {
     "data": {
      "text/plain": [
       "0.00102"
      ]
     },
     "execution_count": 17,
     "metadata": {},
     "output_type": "execute_result"
    }
   ],
   "source": [
    "train_score"
   ]
  },
  {
   "cell_type": "code",
   "execution_count": 14,
   "metadata": {},
   "outputs": [],
   "source": [
    "val_score = qda.score(X_val, y_val)"
   ]
  },
  {
   "cell_type": "code",
   "execution_count": 15,
   "metadata": {},
   "outputs": [
    {
     "data": {
      "text/plain": [
       "0.007920626980156746"
      ]
     },
     "execution_count": 15,
     "metadata": {},
     "output_type": "execute_result"
    }
   ],
   "source": [
    "val_score"
   ]
  },
  {
   "cell_type": "code",
   "execution_count": null,
   "metadata": {},
   "outputs": [],
   "source": []
  }
 ],
 "metadata": {
  "kernelspec": {
   "display_name": "Python [conda env:MacbookPro] *",
   "language": "python",
   "name": "conda-env-MacbookPro-py"
  },
  "language_info": {
   "codemirror_mode": {
    "name": "ipython",
    "version": 3
   },
   "file_extension": ".py",
   "mimetype": "text/x-python",
   "name": "python",
   "nbconvert_exporter": "python",
   "pygments_lexer": "ipython3",
   "version": "3.7.6"
  }
 },
 "nbformat": 4,
 "nbformat_minor": 4
}
